{
 "cells": [
  {
   "cell_type": "code",
   "execution_count": null,
   "metadata": {
    "collapsed": true
   },
   "outputs": [],
   "source": []
  },
  {
   "cell_type": "code",
   "execution_count": null,
   "metadata": {
    "collapsed": true
   },
   "outputs": [],
   "source": [
    "import os\n",
    "import cv2\n",
    "import glob\n",
    "import numpy as np\n",
    "import pandas as pd\n",
    "\n",
    "# seed\n",
    "np.random.seed(2018)\n",
    "from keras.callbacks import Callback, EarlyStopping\n",
    "from keras.optimizers import *\n",
    "from keras.callbacks import *\n",
    "from keras.utils import multi_gpu_model\n",
    "import sys\n",
    "sys.path.append('../')\n",
    "from model.coremodel import model_v9 as my_model\n",
    "from dataload.my_image_balance_swap import MyImageDataGenerator as MyImageDataGenerator_ba\n",
    "from dataload.my_image import MyImageDataGenerator\n",
    "from keras.models import load_model\n",
    "from model.DepthwiseConv2D import DepthwiseConv2D\n",
    "print(\"import done\")"
   ]
  },
  {
   "cell_type": "code",
   "execution_count": null,
   "metadata": {
    "collapsed": true
   },
   "outputs": [],
   "source": [
    "basedir = \"/home/ubuntu/work/data\"\n",
    "basemodel_name = 'inception_v3'\n",
    "model_image_size = (384, 512)\n",
    "modelname = basemodel_name + '_model-v9'+ '_plan3_20180424'\n",
    "savemodel_path = \"./weights/\""
   ]
  },
  {
   "cell_type": "code",
   "execution_count": null,
   "metadata": {
    "collapsed": true
   },
   "outputs": [],
   "source": [
    "# define prerpocess_input\n",
    "from keras.applications.xception import preprocess_input as preprocess_input_ception\n",
    "from keras.applications.resnet50 import preprocess_input as preprocess_input_resnet\n",
    "stamp = time.strftime('%m%d%H', time.localtime(time.time()))\n",
    "if basemodel_name == 'resnet50':\n",
    "    preprocess_input = preprocess_input_resnet\n",
    "elif basemodel_name == 'xception' or 'inception_v3' or 'inception_resnet_v2':\n",
    "    preprocess_input = preprocess_input_ception\n",
    "else:\n",
    "    print('basemodel_name not defined！')\n",
    "    raise NameError\n",
    "\n",
    "modelname =basemodel_name+'-v9-no-weight'+\"{}\".format(stamp)\n",
    "train_batch_size = 32\n",
    "valid_batch_size = 32"
   ]
  },
  {
   "cell_type": "code",
   "execution_count": null,
   "metadata": {
    "collapsed": true
   },
   "outputs": [],
   "source": [
    "train_gen = MyImageDataGenerator_ba(\n",
    "    preprocessing_function=preprocess_input,\n",
    "    width_shift_range=0.05,\n",
    "    height_shift_range=0.05,\n",
    "    rotation_range=6,\n",
    "    shear_range=5,\n",
    "    channel_shift_range=15,\n",
    "    zoom_range=(.9, 1.1),\n",
    ")\n",
    "\n",
    "gen = MyImageDataGenerator(preprocessing_function=preprocess_input)\n",
    "\n",
    "train_generator = train_gen.myflow_from_directory(os.path.join(basedir, 'train'),  model_image_size,\n",
    "                                                class_mode='binary', shuffle=True, batch_size=train_batch_size)\n",
    "\n",
    "valid_generator = gen.myflow_from_directory(os.path.join(basedir, 'valid'),  model_image_size,\n",
    "                                          class_mode='binary', shuffle=True, batch_size=valid_batch_size)\n",
    "train_samples_epoch = train_generator.samples\n",
    "print(\"samples_train_epoch = {}\".format(train_samples_epoch))\n",
    "\n",
    "steps_train = int(len(train_generator)*0.5*3/2)\n",
    "print(\"steps_train = {}\".format(steps_train))\n",
    "\n",
    "valid_samples_epoch = valid_generator.samples\n",
    "print(\"samples_valid_epoch = {}\".format(valid_samples_epoch))\n",
    "\n",
    "steps_valid = len(valid_generator)\n",
    "print(\"steps_valid = {}\".format(steps_valid))"
   ]
  },
  {
   "cell_type": "code",
   "execution_count": null,
   "metadata": {
    "collapsed": true
   },
   "outputs": [],
   "source": [
    "model = my_model(basemodel_name, model_image_size)\n",
    "multi_model = multi_gpu_model(model, gpus=2)"
   ]
  },
  {
   "cell_type": "code",
   "execution_count": null,
   "metadata": {
    "collapsed": true
   },
   "outputs": [],
   "source": [
    "class MyModelCheckpoint(Callback):\n",
    "\n",
    "    def __init__(self, model, path, init_loss=None):\n",
    "        self.mymodel = model\n",
    "        self.path = path\n",
    "        self.best_loss = np.inf\n",
    "        self.best_acc = -1\n",
    "      \n",
    "\n",
    "    def on_epoch_end(self, epoch, logs=None):\n",
    "        val_acc = logs['val_acc']\n",
    "        model_name = '{}_{:.4f}{}'.format(modelname, val_acc, '.h5')\n",
    "        model_path = os.path.join(self.path, model_name)\n",
    "\n",
    "        if val_acc > self.best_acc:\n",
    "            print(\"\\nValidation acc increased from {} to {}, saving model to {}\".format(self.best_acc, val_acc,\n",
    "                                                                                        model_path))\n",
    "            self.mymodel.save_weights(model_path, overwrite=True)\n",
    "            self.best_acc = val_acc  "
   ]
  },
  {
   "cell_type": "code",
   "execution_count": null,
   "metadata": {
    "collapsed": true
   },
   "outputs": [],
   "source": [
    "checkpoint = MyModelCheckpoint(model, savemodel_path)\n",
    "LR_reducer = ReduceLROnPlateau(monitor='val_acc',  mode='max', factor=0.1, patience=2, verbose=1, min_lr=1e-5) "
   ]
  },
  {
   "cell_type": "code",
   "execution_count": null,
   "metadata": {
    "collapsed": true
   },
   "outputs": [],
   "source": [
    "multi_model.compile(optimizer=Adam(lr=1e-3), \n",
    "              loss='binary_crossentropy',\n",
    "              metrics=['accuracy'])\n",
    "multi_model.fit_generator(train_generator, steps_per_epoch=steps_train, epochs=2,\n",
    "                   validation_data=valid_generator, validation_steps=steps_valid, max_queue_size=32, workers=4,\n",
    "                   callbacks=[checkpoint, LR_reducer])"
   ]
  },
  {
   "cell_type": "code",
   "execution_count": null,
   "metadata": {
    "collapsed": true
   },
   "outputs": [],
   "source": [
    "#model.load_weights(\"/home/ubuntu/work/change_detect/program_redo_net_modify/weights/\"+\"inception_v3-v9-no-weight042516_0.9984.h5\")              \n",
    "multi_model.compile(optimizer=Adam(lr=1e-4), \n",
    "              loss='binary_crossentropy',\n",
    "              metrics=['accuracy'])\n",
    "multi_model.fit_generator(train_generator, steps_per_epoch=steps_train, epochs=1,\n",
    "                   validation_data=valid_generator, validation_steps=steps_valid, max_queue_size=32, workers=4,\n",
    "                   callbacks=[checkpoint, LR_reducer])"
   ]
  },
  {
   "cell_type": "code",
   "execution_count": null,
   "metadata": {
    "collapsed": true
   },
   "outputs": [],
   "source": [
    "            \n",
    "multi_model.compile(optimizer=Adam(lr=1e-5), \n",
    "              loss='binary_crossentropy',\n",
    "              metrics=['accuracy'])\n",
    "multi_model.fit_generator(train_generator, steps_per_epoch=steps_train, epochs=1,\n",
    "                   validation_data=valid_generator, validation_steps=steps_valid, max_queue_size=32, workers=4,\n",
    "                   callbacks=[checkpoint,  LR_reducer])"
   ]
  },
  {
   "cell_type": "code",
   "execution_count": null,
   "metadata": {
    "collapsed": true
   },
   "outputs": [],
   "source": []
  },
  {
   "cell_type": "code",
   "execution_count": null,
   "metadata": {
    "collapsed": true
   },
   "outputs": [],
   "source": []
  }
 ],
 "metadata": {
  "kernelspec": {
   "display_name": "Python [conda root]",
   "language": "python",
   "name": "conda-root-py"
  },
  "language_info": {
   "codemirror_mode": {
    "name": "ipython",
    "version": 3
   },
   "file_extension": ".py",
   "mimetype": "text/x-python",
   "name": "python",
   "nbconvert_exporter": "python",
   "pygments_lexer": "ipython3",
   "version": "3.5.3"
  }
 },
 "nbformat": 4,
 "nbformat_minor": 2
}
