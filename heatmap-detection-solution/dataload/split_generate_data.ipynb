{
 "cells": [
  {
   "cell_type": "code",
   "execution_count": 2,
   "metadata": {},
   "outputs": [],
   "source": [
    "import os, glob, time, shutil\n",
    "\n",
    "import numpy as np\n",
    "\n",
    "base_path = os.path.abspath('../')\n",
    "scr_path = '/home/ubuntu/Files/DataSpace/point_detection/SourceData'\n",
    "tar_path = os.path.join(base_path, 'dataspace')"
   ]
  },
  {
   "cell_type": "code",
   "execution_count": null,
   "metadata": {},
   "outputs": [],
   "source": [
    "# task = 'task87_3'; datset = 'train'\n",
    "task = 'task87_4'; datset = 'train'\n",
    "task = 'task87_5'; datset = 'train'\n",
    "task = 'task87_6'; datset = 'valid'\n",
    "task = 'task92_1'; datset = 'test'\n",
    "# task = 'task92_2'; datset = 'valid'\n",
    "# task = 'task92_3'; datset = 'train'\n",
    "# task = 'task92_4'; datset = 'train'\n",
    "# task = 'task92_5'; datset = 'train'\n",
    "# task = 'task92_6'; datset = 'train'\n",
    "# task = 'task93_1'; datset = 'test'\n",
    "# task = 'task93_2'; datset = 'valid'\n",
    "# task = 'task93_3'; datset = 'train'\n",
    "# task = 'task93_4'; datset = 'train'\n",
    "# task = 'task93_5'; datset = 'train'\n",
    "# task = 'task93_6'; datset = 'train'\n",
    "\n",
    "datset_path = os.path.join(tar_path, datset)\n",
    "\n",
    "# if os.path.exists(datset_path):\n",
    "#     shutil.rmtree(datset_path)\n",
    "    \n",
    "if not os.path.exists(datset_path):\n",
    "    os.makedirs(datset_path)\n",
    "\n",
    "os.symlink(os.path.join(scr_path, task), os.path.join(datset_path, task))"
   ]
  },
  {
   "cell_type": "code",
   "execution_count": null,
   "metadata": {},
   "outputs": [],
   "source": []
  },
  {
   "cell_type": "code",
   "execution_count": null,
   "metadata": {},
   "outputs": [],
   "source": []
  },
  {
   "cell_type": "code",
   "execution_count": null,
   "metadata": {},
   "outputs": [],
   "source": []
  },
  {
   "cell_type": "code",
   "execution_count": null,
   "metadata": {},
   "outputs": [],
   "source": []
  }
 ],
 "metadata": {
  "kernelspec": {
   "display_name": "Python 3",
   "language": "python",
   "name": "python3"
  },
  "language_info": {
   "codemirror_mode": {
    "name": "ipython",
    "version": 3
   },
   "file_extension": ".py",
   "mimetype": "text/x-python",
   "name": "python",
   "nbconvert_exporter": "python",
   "pygments_lexer": "ipython3",
   "version": "3.6.5"
  }
 },
 "nbformat": 4,
 "nbformat_minor": 2
}
