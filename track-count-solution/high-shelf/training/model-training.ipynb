{
 "cells": [
  {
   "cell_type": "code",
   "execution_count": null,
   "metadata": {
    "collapsed": true
   },
   "outputs": [],
   "source": [
    "import os\n",
    "import glob\n",
    "import numpy as np\n",
    "import pandas as pd\n",
    "\n",
    "# seed\n",
    "np.random.seed(2020)\n",
    "from keras.callbacks import Callback, EarlyStopping\n",
    "from model.loss import myloss\n",
    "\n",
    "from keras.optimizers import *\n",
    "from keras.utils import multi_gpu_model\n",
    "import sys\n",
    "sys.path.append('../')\n",
    "from dataload.my_image import MyImageDataGenerator\n",
    "from model.coremodel import model_v9lc as my_model\n",
    "from model.metric import count_accuracy\n",
    "from keras.models import load_model\n",
    "from model.DepthwiseConv2D import DepthwiseConv2D\n",
    "print(\"import done\")\n",
    "\n"
   ]
  },
  {
   "cell_type": "code",
   "execution_count": null,
   "metadata": {
    "collapsed": true
   },
   "outputs": [],
   "source": [
    "basedir = \"/home/ubuntu/WorkSpace/DataSpace/shushu/data_spilit/v3/v3plan19_correct_data_link/\"\n",
    "basemodel_name = 'inception_v3'\n",
    "model_image_size = (444, 592)\n",
    "modelname = basemodel_name + '_v3plan19_correct_data_20181207'\n",
    "#old_savemodel_path = './inception_v3_model_v9lc_plan6_20180401.h5'\n",
    "old_savemodel_path = '../savemodel/1020v3plan18_v9lc_rescale3/inception_v3_model_v9lc_myscale3_v3plan18_20181020_0.0021_0.9944_wudi.h5'\n",
    "savemodel_path = \"../savemodel/1207v3plan19_correct_data/\" + modelname\n",
    "\n",
    "# define prerpocess_input\n",
    "from keras.applications.xception import preprocess_input as preprocess_input_ception\n",
    "from keras.applications.resnet50 import preprocess_input as preprocess_input_resnet\n",
    "if basemodel_name == 'resnet50':\n",
    "    preprocess_input = preprocess_input_resnet\n",
    "elif basemodel_name == 'xception' or 'inception_v3' or 'inception_resnet_v2':\n",
    "    preprocess_input = preprocess_input_ception\n",
    "else:\n",
    "    print('basemodel_name not defined！')\n",
    "    raise NameError"
   ]
  },
  {
   "cell_type": "code",
   "execution_count": null,
   "metadata": {
    "collapsed": true
   },
   "outputs": [],
   "source": [
    "train_batch_size = 56\n",
    "valid_batch_size = 56\n",
    "train_gen = MyImageDataGenerator(\n",
    "    preprocessing_function=preprocess_input,\n",
    "    width_shift_range=0.05,\n",
    "    height_shift_range=0.05,\n",
    "    rotation_range=6,\n",
    "    shear_range=5,\n",
    "    channel_shift_range=15,\n",
    "    zoom_range=(.9, 1.1)\n",
    ")\n",
    "\n",
    "gen = MyImageDataGenerator(preprocessing_function=preprocess_input)\n",
    "\n",
    "train_generator = train_gen.myflow_from_directory(os.path.join(basedir, 'train'),  model_image_size,\n",
    "                                                shuffle=True, batch_size=train_batch_size, my_horizontal_flip=True,randomHSV=False,myrescale=True)\n",
    "\n",
    "valid_generator = gen.myflow_from_directory(os.path.join(basedir, 'valid'),  model_image_size,\n",
    "                                          shuffle=True, batch_size=valid_batch_size)\n",
    "train_samples_epoch = train_generator.samples\n",
    "print(\"samples_train_epoch = {}\".format(train_samples_epoch))\n",
    "\n",
    "steps_train = len(train_generator)\n",
    "print(\"steps_train = {}\".format(steps_train))\n",
    "\n",
    "valid_samples_epoch = valid_generator.samples\n",
    "print(\"samples_valid_epoch = {}\".format(valid_samples_epoch))\n",
    "\n",
    "steps_valid = len(valid_generator)\n",
    "print(\"steps_valid = {}\".format(steps_valid))"
   ]
  },
  {
   "cell_type": "code",
   "execution_count": null,
   "metadata": {
    "collapsed": true
   },
   "outputs": [],
   "source": [
    "model = load_model(old_savemodel_path, custom_objects={'DepthwiseConv2D': DepthwiseConv2D})\n",
    "multi_model = multi_gpu_model(model, gpus=4)"
   ]
  },
  {
   "cell_type": "code",
   "execution_count": null,
   "metadata": {
    "collapsed": true
   },
   "outputs": [],
   "source": [
    "class MyModelCheckpoint(Callback):\n",
    "\n",
    "    def __init__(self, model, path, init_loss=None):\n",
    "        self.mymodel = model\n",
    "        self.path = path\n",
    "        if init_loss == None:\n",
    "            self.best_loss = np.inf\n",
    "        else:\n",
    "            self.best_loss = init_loss\n",
    "\n",
    "    def on_epoch_end(self, epoch, logs=None):\n",
    "        val_loss = logs['val_loss']\n",
    "        val_acc = logs['val__count_accuracy']\n",
    "        if val_loss < self.best_loss or val_acc>0.99:\n",
    "            print(\"\\nValidation loss decreased from {0:.5f} to {1:.5f}, saving model\".format(self.best_loss, val_loss))\n",
    "            savedmodel_name = '{}_{:.4f}_{:.4f}.h5'.format(self.path, val_loss, val_acc)\n",
    "            self.mymodel.save(savedmodel_name, overwrite=True)\n",
    "            self.best_loss = val_loss"
   ]
  },
  {
   "cell_type": "code",
   "execution_count": null,
   "metadata": {
    "collapsed": true
   },
   "outputs": [],
   "source": [
    "checkpoint = MyModelCheckpoint(model, savemodel_path)\n",
    "multi_model.compile(optimizer=Adam(lr=1e-3,amsgrad=True), \n",
    "              loss=myloss(),\n",
    "              metrics=[count_accuracy()])\n",
    "multi_model.fit_generator(train_generator, steps_per_epoch=steps_train, epochs=100,\n",
    "                   validation_data=valid_generator, validation_steps=steps_valid, \n",
    "                          max_queue_size=64, workers=12,\n",
    "                 callbacks=[checkpoint, \n",
    "                EarlyStopping(monitor='val_loss', min_delta=0, patience=3, verbose=0, mode='min')])"
   ]
  },
  {
   "cell_type": "code",
   "execution_count": null,
   "metadata": {
    "collapsed": true
   },
   "outputs": [],
   "source": [
    "\n",
    "multi_model.compile(optimizer=Adam(lr=1e-4,amsgrad=True), \n",
    "              loss=myloss(),\n",
    "              metrics=[count_accuracy()])\n",
    "multi_model.fit_generator(train_generator, steps_per_epoch=steps_train, epochs=100,\n",
    "                   validation_data=valid_generator, validation_steps=steps_valid, \n",
    "                          max_queue_size=64, workers=12,\n",
    "                 callbacks=[checkpoint, \n",
    "                EarlyStopping(monitor='val_loss', min_delta=0, patience=7, verbose=0, mode='min')])"
   ]
  },
  {
   "cell_type": "code",
   "execution_count": null,
   "metadata": {
    "collapsed": true
   },
   "outputs": [],
   "source": [
    "multi_model.compile(optimizer=Adam(lr=1e-5,amsgrad=True), \n",
    "              loss=myloss(),\n",
    "              metrics=[count_accuracy()])\n",
    "multi_model.fit_generator(train_generator, steps_per_epoch=steps_train, epochs=100,\n",
    "                   validation_data=valid_generator, validation_steps=steps_valid, \n",
    "                          max_queue_size=64, workers=12,\n",
    "                 callbacks=[checkpoint, \n",
    "                EarlyStopping(monitor='val_loss', min_delta=0, patience=2, verbose=0, mode='min')])"
   ]
  },
  {
   "cell_type": "code",
   "execution_count": null,
   "metadata": {
    "collapsed": true
   },
   "outputs": [],
   "source": []
  },
  {
   "cell_type": "code",
   "execution_count": null,
   "metadata": {
    "collapsed": true
   },
   "outputs": [],
   "source": []
  },
  {
   "cell_type": "code",
   "execution_count": null,
   "metadata": {
    "collapsed": true
   },
   "outputs": [],
   "source": []
  },
  {
   "cell_type": "code",
   "execution_count": null,
   "metadata": {
    "collapsed": true
   },
   "outputs": [],
   "source": []
  },
  {
   "cell_type": "code",
   "execution_count": null,
   "metadata": {
    "collapsed": true
   },
   "outputs": [],
   "source": []
  },
  {
   "cell_type": "code",
   "execution_count": null,
   "metadata": {
    "collapsed": true
   },
   "outputs": [],
   "source": []
  },
  {
   "cell_type": "code",
   "execution_count": null,
   "metadata": {
    "collapsed": true
   },
   "outputs": [],
   "source": []
  },
  {
   "cell_type": "code",
   "execution_count": null,
   "metadata": {
    "collapsed": true
   },
   "outputs": [],
   "source": []
  },
  {
   "cell_type": "code",
   "execution_count": null,
   "metadata": {
    "collapsed": true
   },
   "outputs": [],
   "source": []
  },
  {
   "cell_type": "code",
   "execution_count": null,
   "metadata": {
    "collapsed": true
   },
   "outputs": [],
   "source": []
  }
 ],
 "metadata": {
  "kernelspec": {
   "display_name": "Python [conda root]",
   "language": "python",
   "name": "conda-root-py"
  },
  "language_info": {
   "codemirror_mode": {
    "name": "ipython",
    "version": 3
   },
   "file_extension": ".py",
   "mimetype": "text/x-python",
   "name": "python",
   "nbconvert_exporter": "python",
   "pygments_lexer": "ipython3",
   "version": "3.5.3"
  }
 },
 "nbformat": 4,
 "nbformat_minor": 2
}
