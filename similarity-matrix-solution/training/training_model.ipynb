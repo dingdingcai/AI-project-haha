{
 "cells": [
  {
   "cell_type": "markdown",
   "metadata": {},
   "source": [
    "# 0 环境配置"
   ]
  },
  {
   "cell_type": "code",
   "execution_count": 1,
   "metadata": {},
   "outputs": [
    {
     "name": "stderr",
     "output_type": "stream",
     "text": [
      "/home/ubuntu/.pyenv/versions/anaconda3-5.2.0/lib/python3.6/site-packages/h5py/__init__.py:36: FutureWarning: Conversion of the second argument of issubdtype from `float` to `np.floating` is deprecated. In future, it will be treated as `np.float64 == np.dtype(float).type`.\n",
      "  from ._conv import register_converters as _register_converters\n",
      "Using TensorFlow backend.\n"
     ]
    }
   ],
   "source": [
    "\n",
    "import numpy as np\n",
    "import os\n",
    "import sys, time\n",
    "sys.path.append('../')\n",
    "\n",
    "import matplotlib.pyplot as plt\n",
    "%matplotlib inline\n",
    "\n",
    "from model.loss import myloss\n",
    "from model.metric import all_accuracy\n",
    "from keras.applications.xception import preprocess_input\n",
    "from keras.callbacks import Callback, EarlyStopping\n",
    "from model.DepthwiseConv2D import DepthwiseConv2D\n",
    "from model.switchnorm import SwitchNormalization\n",
    "from keras.utils import multi_gpu_model\n",
    "from keras.optimizers import *\n",
    "from keras.models import load_model\n",
    "from IPython.display import SVG\n",
    "from keras.utils import plot_model\n",
    "from keras.utils.vis_utils import model_to_dot\n",
    "\n",
    "from dataload.data_generator import *\n",
    "from model.core_model import model_v1 as my_model\n",
    "\n",
    "gpus = 2\n",
    "os.environ[\"CUDA_VISIBLE_DEVICES\"] = \"0, 1\"\n",
    "config = tf.ConfigProto() \n",
    "config.gpu_options.per_process_gpu_memory_fraction = 0.95\n",
    "session = tf.Session(config=config)\n"
   ]
  },
  {
   "cell_type": "markdown",
   "metadata": {},
   "source": [
    "# 1 预设参数"
   ]
  },
  {
   "cell_type": "code",
   "execution_count": 2,
   "metadata": {},
   "outputs": [],
   "source": [
    "base_project = os.path.abspath('../')\n",
    "data_dir    = os.path.join(base_project, 'dataspace')\n",
    "model_name = 'model_v1'\n",
    "image_size = (512, 512)\n",
    "mask_size  = (31, 31, 31, 31)"
   ]
  },
  {
   "cell_type": "markdown",
   "metadata": {},
   "source": [
    "# 2 数据生成"
   ]
  },
  {
   "cell_type": "code",
   "execution_count": 3,
   "metadata": {},
   "outputs": [
    {
     "name": "stdout",
     "output_type": "stream",
     "text": [
      "Found 414972 image pairs.\n",
      "Found 87753 image pairs.\n",
      "samples_train_epoch = 414972\n",
      "steps_train = 12968\n",
      "samples_valid_epoch = 87753\n",
      "steps_valid = 2743\n"
     ]
    }
   ],
   "source": [
    "threshold = 0.0\n",
    "heatmap_height = mask_size[0]\n",
    "heatmap_width  = mask_size[1]\n",
    "\n",
    "train_batch_size = 16\n",
    "valid_batch_size = 16\n",
    "\n",
    "train_gen = MyImageDataGenerator(\n",
    "    preprocessing_function=preprocess_input,\n",
    "    width_shift_range=0.05,\n",
    "    height_shift_range=0.05,\n",
    "    rotation_range=6,\n",
    "    channel_shift_range=15,\n",
    "    zoom_range=(.9, 1.1),\n",
    "    horizontal_flip=True\n",
    ")\n",
    "\n",
    "gen = MyImageDataGenerator(preprocessing_function=preprocess_input)\n",
    "\n",
    "train_generator = train_gen.myflow_from_directory(os.path.join(data_dir, 'train'),\n",
    "                                                  target_size       = image_size,\n",
    "                                                  x_threshold       = threshold,\n",
    "                                                  y_threshold       = threshold,\n",
    "                                                  dataset_mode      = 'train',\n",
    "                                                  heatmap_height    = heatmap_height,\n",
    "                                                  heatmap_width     = heatmap_width,\n",
    "                                                  batch_size        = train_batch_size)\n",
    "\n",
    "valid_generator = gen.myflow_from_directory(os.path.join(data_dir, 'valid'), \n",
    "                                           target_size       = image_size,\n",
    "                                           x_threshold       = threshold,\n",
    "                                           y_threshold       = threshold,\n",
    "                                           dataset_mode      = 'valid',\n",
    "                                           heatmap_height    = heatmap_height,\n",
    "                                           heatmap_width     = heatmap_width,\n",
    "                                           batch_size        = valid_batch_size)\n",
    "train_samples_epoch = train_generator.data_num\n",
    "print(\"samples_train_epoch = {}\".format(train_samples_epoch))\n",
    "\n",
    "steps_train = len(train_generator)\n",
    "print(\"steps_train = {}\".format(steps_train))\n",
    "\n",
    "valid_samples_epoch = valid_generator.data_num\n",
    "print(\"samples_valid_epoch = {}\".format(valid_samples_epoch))\n",
    "\n",
    "steps_valid = len(valid_generator)\n",
    "print(\"steps_valid = {}\".format(steps_valid))\n"
   ]
  },
  {
   "cell_type": "markdown",
   "metadata": {},
   "source": [
    "# 3 搭建模型"
   ]
  },
  {
   "cell_type": "code",
   "execution_count": 4,
   "metadata": {
    "scrolled": true
   },
   "outputs": [
    {
     "name": "stdout",
     "output_type": "stream",
     "text": [
      "__________________________________________________________________________________________________\n",
      "Layer (type)                    Output Shape         Param #     Connected to                     \n",
      "==================================================================================================\n",
      "input_3 (InputLayer)            (None, 512, 512, 3)  0                                            \n",
      "__________________________________________________________________________________________________\n",
      "input_2 (InputLayer)            (None, 512, 512, 3)  0                                            \n",
      "__________________________________________________________________________________________________\n",
      "vision_model (Model)            (None, 31, 31, 768)  8975264     input_2[0][0]                    \n",
      "                                                                 input_3[0][0]                    \n",
      "__________________________________________________________________________________________________\n",
      "similarity_reshape_b (Reshape)  (None, 961, 768)     0           vision_model[2][0]               \n",
      "__________________________________________________________________________________________________\n",
      "similarity_reshape_a (Reshape)  (None, 961, 768)     0           vision_model[1][0]               \n",
      "__________________________________________________________________________________________________\n",
      "similarity_dot1 (Dot)           (None, 961, 961)     0           similarity_reshape_b[0][0]       \n",
      "                                                                 similarity_reshape_a[0][0]       \n",
      "__________________________________________________________________________________________________\n",
      "similarity_reshape_out (Reshape (None, 31, 31, 31, 3 0           similarity_dot1[0][0]            \n",
      "__________________________________________________________________________________________________\n",
      "input_4 (InputLayer)            (None, 31, 31, 31, 3 0                                            \n",
      "__________________________________________________________________________________________________\n",
      "similarity_mask (Multiply)      (None, 31, 31, 31, 3 0           similarity_reshape_out[0][0]     \n",
      "                                                                 input_4[0][0]                    \n",
      "==================================================================================================\n",
      "Total params: 8,975,264\n",
      "Trainable params: 8,956,448\n",
      "Non-trainable params: 18,816\n",
      "__________________________________________________________________________________________________\n"
     ]
    },
    {
     "data": {
      "image/svg+xml": [
       "<svg height=\"476pt\" viewBox=\"0.00 0.00 933.00 476.00\" width=\"933pt\" xmlns=\"http://www.w3.org/2000/svg\" xmlns:xlink=\"http://www.w3.org/1999/xlink\">\n",
       "<g class=\"graph\" id=\"graph0\" transform=\"scale(1 1) rotate(0) translate(4 472)\">\n",
       "<title>G</title>\n",
       "<polygon fill=\"white\" points=\"-4,4 -4,-472 929,-472 929,4 -4,4\" stroke=\"none\"/>\n",
       "<!-- 140655347524944 -->\n",
       "<g class=\"node\" id=\"node1\"><title>140655347524944</title>\n",
       "<polygon fill=\"none\" points=\"59.5,-421 59.5,-467 364.5,-467 364.5,-421 59.5,-421\" stroke=\"black\"/>\n",
       "<text font-family=\"Times,serif\" font-size=\"14.00\" text-anchor=\"middle\" x=\"122\" y=\"-440.3\">input_3: InputLayer</text>\n",
       "<polyline fill=\"none\" points=\"184.5,-421 184.5,-467 \" stroke=\"black\"/>\n",
       "<text font-family=\"Times,serif\" font-size=\"14.00\" text-anchor=\"middle\" x=\"212\" y=\"-451.8\">input:</text>\n",
       "<polyline fill=\"none\" points=\"184.5,-444 239.5,-444 \" stroke=\"black\"/>\n",
       "<text font-family=\"Times,serif\" font-size=\"14.00\" text-anchor=\"middle\" x=\"212\" y=\"-428.8\">output:</text>\n",
       "<polyline fill=\"none\" points=\"239.5,-421 239.5,-467 \" stroke=\"black\"/>\n",
       "<text font-family=\"Times,serif\" font-size=\"14.00\" text-anchor=\"middle\" x=\"302\" y=\"-451.8\">(None, 512, 512, 3)</text>\n",
       "<polyline fill=\"none\" points=\"239.5,-444 364.5,-444 \" stroke=\"black\"/>\n",
       "<text font-family=\"Times,serif\" font-size=\"14.00\" text-anchor=\"middle\" x=\"302\" y=\"-428.8\">(None, 512, 512, 3)</text>\n",
       "</g>\n",
       "<!-- 140654868643792 -->\n",
       "<g class=\"node\" id=\"node3\"><title>140654868643792</title>\n",
       "<polygon fill=\"none\" points=\"216,-337 216,-383 530,-383 530,-337 216,-337\" stroke=\"black\"/>\n",
       "<text font-family=\"Times,serif\" font-size=\"14.00\" text-anchor=\"middle\" x=\"283\" y=\"-356.3\">vision_model: Model</text>\n",
       "<polyline fill=\"none\" points=\"350,-337 350,-383 \" stroke=\"black\"/>\n",
       "<text font-family=\"Times,serif\" font-size=\"14.00\" text-anchor=\"middle\" x=\"377.5\" y=\"-367.8\">input:</text>\n",
       "<polyline fill=\"none\" points=\"350,-360 405,-360 \" stroke=\"black\"/>\n",
       "<text font-family=\"Times,serif\" font-size=\"14.00\" text-anchor=\"middle\" x=\"377.5\" y=\"-344.8\">output:</text>\n",
       "<polyline fill=\"none\" points=\"405,-337 405,-383 \" stroke=\"black\"/>\n",
       "<text font-family=\"Times,serif\" font-size=\"14.00\" text-anchor=\"middle\" x=\"467.5\" y=\"-367.8\">(None, 512, 512, 3)</text>\n",
       "<polyline fill=\"none\" points=\"405,-360 530,-360 \" stroke=\"black\"/>\n",
       "<text font-family=\"Times,serif\" font-size=\"14.00\" text-anchor=\"middle\" x=\"467.5\" y=\"-344.8\">(None, 31, 31, 768)</text>\n",
       "</g>\n",
       "<!-- 140655347524944&#45;&gt;140654868643792 -->\n",
       "<g class=\"edge\" id=\"edge2\"><title>140655347524944-&gt;140654868643792</title>\n",
       "<path d=\"M255.569,-420.81C275.606,-410.604 299.541,-398.414 320.558,-387.709\" fill=\"none\" stroke=\"black\"/>\n",
       "<polygon fill=\"black\" points=\"322.353,-390.723 329.675,-383.066 319.176,-384.486 322.353,-390.723\" stroke=\"black\"/>\n",
       "</g>\n",
       "<!-- 140655347352968 -->\n",
       "<g class=\"node\" id=\"node2\"><title>140655347352968</title>\n",
       "<polygon fill=\"none\" points=\"382.5,-421 382.5,-467 687.5,-467 687.5,-421 382.5,-421\" stroke=\"black\"/>\n",
       "<text font-family=\"Times,serif\" font-size=\"14.00\" text-anchor=\"middle\" x=\"445\" y=\"-440.3\">input_2: InputLayer</text>\n",
       "<polyline fill=\"none\" points=\"507.5,-421 507.5,-467 \" stroke=\"black\"/>\n",
       "<text font-family=\"Times,serif\" font-size=\"14.00\" text-anchor=\"middle\" x=\"535\" y=\"-451.8\">input:</text>\n",
       "<polyline fill=\"none\" points=\"507.5,-444 562.5,-444 \" stroke=\"black\"/>\n",
       "<text font-family=\"Times,serif\" font-size=\"14.00\" text-anchor=\"middle\" x=\"535\" y=\"-428.8\">output:</text>\n",
       "<polyline fill=\"none\" points=\"562.5,-421 562.5,-467 \" stroke=\"black\"/>\n",
       "<text font-family=\"Times,serif\" font-size=\"14.00\" text-anchor=\"middle\" x=\"625\" y=\"-451.8\">(None, 512, 512, 3)</text>\n",
       "<polyline fill=\"none\" points=\"562.5,-444 687.5,-444 \" stroke=\"black\"/>\n",
       "<text font-family=\"Times,serif\" font-size=\"14.00\" text-anchor=\"middle\" x=\"625\" y=\"-428.8\">(None, 512, 512, 3)</text>\n",
       "</g>\n",
       "<!-- 140655347352968&#45;&gt;140654868643792 -->\n",
       "<g class=\"edge\" id=\"edge1\"><title>140655347352968-&gt;140654868643792</title>\n",
       "<path d=\"M491.16,-420.81C470.999,-410.604 446.916,-398.414 425.767,-387.709\" fill=\"none\" stroke=\"black\"/>\n",
       "<polygon fill=\"black\" points=\"427.096,-384.459 416.594,-383.066 423.935,-390.705 427.096,-384.459\" stroke=\"black\"/>\n",
       "</g>\n",
       "<!-- 140655347714592 -->\n",
       "<g class=\"node\" id=\"node4\"><title>140655347714592</title>\n",
       "<polygon fill=\"none\" points=\"0,-253 0,-299 364,-299 364,-253 0,-253\" stroke=\"black\"/>\n",
       "<text font-family=\"Times,serif\" font-size=\"14.00\" text-anchor=\"middle\" x=\"92\" y=\"-272.3\">similarity_reshape_b: Reshape</text>\n",
       "<polyline fill=\"none\" points=\"184,-253 184,-299 \" stroke=\"black\"/>\n",
       "<text font-family=\"Times,serif\" font-size=\"14.00\" text-anchor=\"middle\" x=\"211.5\" y=\"-283.8\">input:</text>\n",
       "<polyline fill=\"none\" points=\"184,-276 239,-276 \" stroke=\"black\"/>\n",
       "<text font-family=\"Times,serif\" font-size=\"14.00\" text-anchor=\"middle\" x=\"211.5\" y=\"-260.8\">output:</text>\n",
       "<polyline fill=\"none\" points=\"239,-253 239,-299 \" stroke=\"black\"/>\n",
       "<text font-family=\"Times,serif\" font-size=\"14.00\" text-anchor=\"middle\" x=\"301.5\" y=\"-283.8\">(None, 31, 31, 768)</text>\n",
       "<polyline fill=\"none\" points=\"239,-276 364,-276 \" stroke=\"black\"/>\n",
       "<text font-family=\"Times,serif\" font-size=\"14.00\" text-anchor=\"middle\" x=\"301.5\" y=\"-260.8\">(None, 961, 768)</text>\n",
       "</g>\n",
       "<!-- 140654868643792&#45;&gt;140655347714592 -->\n",
       "<g class=\"edge\" id=\"edge3\"><title>140654868643792-&gt;140655347714592</title>\n",
       "<path d=\"M321.564,-336.918C297.365,-326.528 268.33,-314.063 243.025,-303.199\" fill=\"none\" stroke=\"black\"/>\n",
       "<polygon fill=\"black\" points=\"244.097,-299.851 233.528,-299.122 241.336,-306.283 244.097,-299.851\" stroke=\"black\"/>\n",
       "</g>\n",
       "<!-- 140654318739184 -->\n",
       "<g class=\"node\" id=\"node5\"><title>140654318739184</title>\n",
       "<polygon fill=\"none\" points=\"382.5,-253 382.5,-299 745.5,-299 745.5,-253 382.5,-253\" stroke=\"black\"/>\n",
       "<text font-family=\"Times,serif\" font-size=\"14.00\" text-anchor=\"middle\" x=\"474\" y=\"-272.3\">similarity_reshape_a: Reshape</text>\n",
       "<polyline fill=\"none\" points=\"565.5,-253 565.5,-299 \" stroke=\"black\"/>\n",
       "<text font-family=\"Times,serif\" font-size=\"14.00\" text-anchor=\"middle\" x=\"593\" y=\"-283.8\">input:</text>\n",
       "<polyline fill=\"none\" points=\"565.5,-276 620.5,-276 \" stroke=\"black\"/>\n",
       "<text font-family=\"Times,serif\" font-size=\"14.00\" text-anchor=\"middle\" x=\"593\" y=\"-260.8\">output:</text>\n",
       "<polyline fill=\"none\" points=\"620.5,-253 620.5,-299 \" stroke=\"black\"/>\n",
       "<text font-family=\"Times,serif\" font-size=\"14.00\" text-anchor=\"middle\" x=\"683\" y=\"-283.8\">(None, 31, 31, 768)</text>\n",
       "<polyline fill=\"none\" points=\"620.5,-276 745.5,-276 \" stroke=\"black\"/>\n",
       "<text font-family=\"Times,serif\" font-size=\"14.00\" text-anchor=\"middle\" x=\"683\" y=\"-260.8\">(None, 961, 768)</text>\n",
       "</g>\n",
       "<!-- 140654868643792&#45;&gt;140654318739184 -->\n",
       "<g class=\"edge\" id=\"edge4\"><title>140654868643792-&gt;140654318739184</title>\n",
       "<path d=\"M424.436,-336.918C448.635,-326.528 477.67,-314.063 502.975,-303.199\" fill=\"none\" stroke=\"black\"/>\n",
       "<polygon fill=\"black\" points=\"504.664,-306.283 512.472,-299.122 501.903,-299.851 504.664,-306.283\" stroke=\"black\"/>\n",
       "</g>\n",
       "<!-- 140654868482872 -->\n",
       "<g class=\"node\" id=\"node6\"><title>140654868482872</title>\n",
       "<polygon fill=\"none\" points=\"171,-169 171,-215 575,-215 575,-169 171,-169\" stroke=\"black\"/>\n",
       "<text font-family=\"Times,serif\" font-size=\"14.00\" text-anchor=\"middle\" x=\"235\" y=\"-188.3\">similarity_dot1: Dot</text>\n",
       "<polyline fill=\"none\" points=\"299,-169 299,-215 \" stroke=\"black\"/>\n",
       "<text font-family=\"Times,serif\" font-size=\"14.00\" text-anchor=\"middle\" x=\"326.5\" y=\"-199.8\">input:</text>\n",
       "<polyline fill=\"none\" points=\"299,-192 354,-192 \" stroke=\"black\"/>\n",
       "<text font-family=\"Times,serif\" font-size=\"14.00\" text-anchor=\"middle\" x=\"326.5\" y=\"-176.8\">output:</text>\n",
       "<polyline fill=\"none\" points=\"354,-169 354,-215 \" stroke=\"black\"/>\n",
       "<text font-family=\"Times,serif\" font-size=\"14.00\" text-anchor=\"middle\" x=\"464.5\" y=\"-199.8\">[(None, 961, 768), (None, 961, 768)]</text>\n",
       "<polyline fill=\"none\" points=\"354,-192 575,-192 \" stroke=\"black\"/>\n",
       "<text font-family=\"Times,serif\" font-size=\"14.00\" text-anchor=\"middle\" x=\"464.5\" y=\"-176.8\">(None, 961, 961)</text>\n",
       "</g>\n",
       "<!-- 140655347714592&#45;&gt;140654868482872 -->\n",
       "<g class=\"edge\" id=\"edge5\"><title>140655347714592-&gt;140654868482872</title>\n",
       "<path d=\"M233.436,-252.918C257.635,-242.528 286.67,-230.063 311.975,-219.199\" fill=\"none\" stroke=\"black\"/>\n",
       "<polygon fill=\"black\" points=\"313.664,-222.283 321.472,-215.122 310.903,-215.851 313.664,-222.283\" stroke=\"black\"/>\n",
       "</g>\n",
       "<!-- 140654318739184&#45;&gt;140654868482872 -->\n",
       "<g class=\"edge\" id=\"edge6\"><title>140654318739184-&gt;140654868482872</title>\n",
       "<path d=\"M512.564,-252.918C488.365,-242.528 459.33,-230.063 434.025,-219.199\" fill=\"none\" stroke=\"black\"/>\n",
       "<polygon fill=\"black\" points=\"435.097,-215.851 424.528,-215.122 432.336,-222.283 435.097,-215.851\" stroke=\"black\"/>\n",
       "</g>\n",
       "<!-- 140654868482424 -->\n",
       "<g class=\"node\" id=\"node7\"><title>140654868482424</title>\n",
       "<polygon fill=\"none\" points=\"172,-85 172,-131 574,-131 574,-85 172,-85\" stroke=\"black\"/>\n",
       "<text font-family=\"Times,serif\" font-size=\"14.00\" text-anchor=\"middle\" x=\"269\" y=\"-104.3\">similarity_reshape_out: Reshape</text>\n",
       "<polyline fill=\"none\" points=\"366,-85 366,-131 \" stroke=\"black\"/>\n",
       "<text font-family=\"Times,serif\" font-size=\"14.00\" text-anchor=\"middle\" x=\"393.5\" y=\"-115.8\">input:</text>\n",
       "<polyline fill=\"none\" points=\"366,-108 421,-108 \" stroke=\"black\"/>\n",
       "<text font-family=\"Times,serif\" font-size=\"14.00\" text-anchor=\"middle\" x=\"393.5\" y=\"-92.8\">output:</text>\n",
       "<polyline fill=\"none\" points=\"421,-85 421,-131 \" stroke=\"black\"/>\n",
       "<text font-family=\"Times,serif\" font-size=\"14.00\" text-anchor=\"middle\" x=\"497.5\" y=\"-115.8\">(None, 961, 961)</text>\n",
       "<polyline fill=\"none\" points=\"421,-108 574,-108 \" stroke=\"black\"/>\n",
       "<text font-family=\"Times,serif\" font-size=\"14.00\" text-anchor=\"middle\" x=\"497.5\" y=\"-92.8\">(None, 31, 31, 31, 31, 1)</text>\n",
       "</g>\n",
       "<!-- 140654868482872&#45;&gt;140654868482424 -->\n",
       "<g class=\"edge\" id=\"edge7\"><title>140654868482872-&gt;140654868482424</title>\n",
       "<path d=\"M373,-168.593C373,-160.118 373,-150.297 373,-141.104\" fill=\"none\" stroke=\"black\"/>\n",
       "<polygon fill=\"black\" points=\"376.5,-141.096 373,-131.096 369.5,-141.096 376.5,-141.096\" stroke=\"black\"/>\n",
       "</g>\n",
       "<!-- 140654324649824 -->\n",
       "<g class=\"node\" id=\"node9\"><title>140654324649824</title>\n",
       "<polygon fill=\"none\" points=\"305,-1 305,-47 827,-47 827,-1 305,-1\" stroke=\"black\"/>\n",
       "<text font-family=\"Times,serif\" font-size=\"14.00\" text-anchor=\"middle\" x=\"385.5\" y=\"-20.3\">similarity_mask: Multiply</text>\n",
       "<polyline fill=\"none\" points=\"466,-1 466,-47 \" stroke=\"black\"/>\n",
       "<text font-family=\"Times,serif\" font-size=\"14.00\" text-anchor=\"middle\" x=\"493.5\" y=\"-31.8\">input:</text>\n",
       "<polyline fill=\"none\" points=\"466,-24 521,-24 \" stroke=\"black\"/>\n",
       "<text font-family=\"Times,serif\" font-size=\"14.00\" text-anchor=\"middle\" x=\"493.5\" y=\"-8.8\">output:</text>\n",
       "<polyline fill=\"none\" points=\"521,-1 521,-47 \" stroke=\"black\"/>\n",
       "<text font-family=\"Times,serif\" font-size=\"14.00\" text-anchor=\"middle\" x=\"674\" y=\"-31.8\">[(None, 31, 31, 31, 31, 1), (None, 31, 31, 31, 31, 1)]</text>\n",
       "<polyline fill=\"none\" points=\"521,-24 827,-24 \" stroke=\"black\"/>\n",
       "<text font-family=\"Times,serif\" font-size=\"14.00\" text-anchor=\"middle\" x=\"674\" y=\"-8.8\">(None, 31, 31, 31, 31, 1)</text>\n",
       "</g>\n",
       "<!-- 140654868482424&#45;&gt;140654324649824 -->\n",
       "<g class=\"edge\" id=\"edge8\"><title>140654868482424-&gt;140654324649824</title>\n",
       "<path d=\"M424.974,-84.9176C449.535,-74.4825 479.025,-61.9533 504.673,-51.0559\" fill=\"none\" stroke=\"black\"/>\n",
       "<polygon fill=\"black\" points=\"506.098,-54.2536 513.933,-47.1218 503.36,-47.8109 506.098,-54.2536\" stroke=\"black\"/>\n",
       "</g>\n",
       "<!-- 140654868482984 -->\n",
       "<g class=\"node\" id=\"node8\"><title>140654868482984</title>\n",
       "<polygon fill=\"none\" points=\"592.5,-85 592.5,-131 925.5,-131 925.5,-85 592.5,-85\" stroke=\"black\"/>\n",
       "<text font-family=\"Times,serif\" font-size=\"14.00\" text-anchor=\"middle\" x=\"655\" y=\"-104.3\">input_4: InputLayer</text>\n",
       "<polyline fill=\"none\" points=\"717.5,-85 717.5,-131 \" stroke=\"black\"/>\n",
       "<text font-family=\"Times,serif\" font-size=\"14.00\" text-anchor=\"middle\" x=\"745\" y=\"-115.8\">input:</text>\n",
       "<polyline fill=\"none\" points=\"717.5,-108 772.5,-108 \" stroke=\"black\"/>\n",
       "<text font-family=\"Times,serif\" font-size=\"14.00\" text-anchor=\"middle\" x=\"745\" y=\"-92.8\">output:</text>\n",
       "<polyline fill=\"none\" points=\"772.5,-85 772.5,-131 \" stroke=\"black\"/>\n",
       "<text font-family=\"Times,serif\" font-size=\"14.00\" text-anchor=\"middle\" x=\"849\" y=\"-115.8\">(None, 31, 31, 31, 31, 1)</text>\n",
       "<polyline fill=\"none\" points=\"772.5,-108 925.5,-108 \" stroke=\"black\"/>\n",
       "<text font-family=\"Times,serif\" font-size=\"14.00\" text-anchor=\"middle\" x=\"849\" y=\"-92.8\">(None, 31, 31, 31, 31, 1)</text>\n",
       "</g>\n",
       "<!-- 140654868482984&#45;&gt;140654324649824 -->\n",
       "<g class=\"edge\" id=\"edge9\"><title>140654868482984-&gt;140654324649824</title>\n",
       "<path d=\"M707.026,-84.9176C682.465,-74.4825 652.975,-61.9533 627.327,-51.0559\" fill=\"none\" stroke=\"black\"/>\n",
       "<polygon fill=\"black\" points=\"628.64,-47.8109 618.067,-47.1218 625.902,-54.2536 628.64,-47.8109\" stroke=\"black\"/>\n",
       "</g>\n",
       "</g>\n",
       "</svg>"
      ],
      "text/plain": [
       "<IPython.core.display.SVG object>"
      ]
     },
     "execution_count": 4,
     "metadata": {},
     "output_type": "execute_result"
    }
   ],
   "source": [
    "model = my_model(image_size=image_size, mask_size=mask_size)\n",
    "model.summary()\n",
    "SVG(model_to_dot(model, show_shapes=True).create(prog='dot', format='svg'))"
   ]
  },
  {
   "cell_type": "markdown",
   "metadata": {},
   "source": [
    "# 4 训练模型"
   ]
  },
  {
   "cell_type": "code",
   "execution_count": 5,
   "metadata": {},
   "outputs": [],
   "source": [
    "model_path = os.path.join(base_project,  'checkpoints/' + model_name)\n",
    "\n",
    "if not os.path.exists(model_path):\n",
    "    os.makedirs(model_path)\n",
    "\n",
    "class MyModelCheckpoint(Callback):\n",
    "    def __init__(self, model, path, init_loss=np.inf, init_acc=-1):\n",
    "        self.mymodel = model\n",
    "        self.path = path\n",
    "        self.best_loss = init_loss\n",
    "        self.best_acc = init_acc\n",
    "        \n",
    "    def on_epoch_end(self, epoch, logs=None):\n",
    "        stamp = time.strftime('%Y%m%d%H%M',time.localtime(time.time()))\n",
    "\n",
    "        val_loss = logs['val_loss']\n",
    "\n",
    "        val_acc = logs['val__all_accuracy']\n",
    "        _model = '{}_{}_{:.4f}_{:.4f}{}'.format(model_name, stamp, val_loss, val_acc, '_model.h5')\n",
    "        model_path = os.path.join(self.path, _model)\n",
    "        short_name = '{}.h5'.format(model_name)\n",
    "        \n",
    "        if val_loss < self.best_loss:\n",
    "            print(\"\\nValidation loss decreased from {:.4f} to {:.4f}, saving model to {}\".format(self.best_loss, val_loss, _model))\n",
    "            self.mymodel.save(os.path.join(self.path, short_name), overwrite=True)\n",
    "            self.mymodel.save(model_path, overwrite=True)\n",
    "            self.best_loss = val_loss\n",
    "            if val_acc > self.best_acc:\n",
    "                self.best_acc = val_acc\n",
    "                \n",
    "        if val_acc > self.best_acc:\n",
    "            print(\"\\nValidation acc increased from {:.4f} to {:.4f}, saving model to {}\".format(self.best_acc, val_acc, _model))\n",
    "            self.mymodel.save(os.path.join(self.path, short_name), overwrite=True)\n",
    "            self.mymodel.save(model_path, overwrite=True)\n",
    "            self.best_acc = val_acc\n",
    "            if val_loss < self.best_loss:\n",
    "                self.best_loss = val_loss\n",
    "                "
   ]
  },
  {
   "cell_type": "code",
   "execution_count": 6,
   "metadata": {
    "scrolled": true
   },
   "outputs": [],
   "source": [
    "checkpoint = MyModelCheckpoint(model, model_path, init_loss = 500, init_acc=0.5)\n",
    "earlystop  = EarlyStopping(monitor = 'val_loss', min_delta = 0, patience = 5, verbose = 1, mode = 'auto')\n",
    "model.load_weights(os.path.join(model_path, 'model_v1.h5'))"
   ]
  },
  {
   "cell_type": "code",
   "execution_count": null,
   "metadata": {
    "scrolled": true
   },
   "outputs": [
    {
     "name": "stdout",
     "output_type": "stream",
     "text": [
      "Epoch 1/100\n",
      "1296/1296 [==============================] - 7502s 6s/step - loss: 138.7866 - _all_accuracy: 0.7527 - val_loss: 743.8932 - val__all_accuracy: 0.4051\n",
      "Epoch 2/100\n",
      "1296/1296 [==============================] - 5962s 5s/step - loss: 160.0158 - _all_accuracy: 0.7222 - val_loss: 619.0010 - val__all_accuracy: 0.4533\n",
      "Epoch 3/100\n",
      "1296/1296 [==============================] - 7161s 6s/step - loss: 147.0076 - _all_accuracy: 0.7341 - val_loss: 615.5179 - val__all_accuracy: 0.4647\n",
      "Epoch 4/100\n",
      "1296/1296 [==============================] - 6533s 5s/step - loss: 132.0725 - _all_accuracy: 0.7609 - val_loss: 760.1561 - val__all_accuracy: 0.3735\n",
      "Epoch 5/100\n",
      "1296/1296 [==============================] - 7118s 5s/step - loss: 123.4141 - _all_accuracy: 0.7699 - val_loss: 602.5376 - val__all_accuracy: 0.4836\n",
      "Epoch 6/100\n",
      "1296/1296 [==============================] - 7090s 5s/step - loss: 157.9320 - _all_accuracy: 0.7318 - val_loss: 618.6844 - val__all_accuracy: 0.4787\n",
      "Epoch 7/100\n",
      "1296/1296 [==============================] - 6944s 5s/step - loss: 132.1802 - _all_accuracy: 0.7602 - val_loss: 697.6403 - val__all_accuracy: 0.4190\n",
      "Epoch 8/100\n",
      "1154/1296 [=========================>....] - ETA: 8:05 - loss: 118.5919 - _all_accuracy: 0.7749"
     ]
    }
   ],
   "source": [
    "train_ratio = 0.1\n",
    "steps_train_part = int(steps_train * train_ratio)\n",
    "\n",
    "valid_ratio = 0.3\n",
    "steps_valid_part = int(steps_valid * valid_ratio)\n",
    "\n",
    "multi_model = multi_gpu_model(model, gpus=gpus)\n",
    "multi_model.compile(optimizer = Adam(lr=1e-3), \n",
    "                    loss      = myloss(),\n",
    "                    metrics   = [all_accuracy()])\n",
    "\n",
    "multi_model.fit_generator(train_generator,\n",
    "                          steps_per_epoch  = steps_train_part,\n",
    "                          epochs           = 100,\n",
    "                          validation_data  = valid_generator,\n",
    "                          validation_steps = steps_valid_part,\n",
    "                          max_queue_size   = 64,\n",
    "                          workers          = 16,\n",
    "                          callbacks        = [checkpoint, earlystop])\n",
    "print(time.strftime('%Y.%m.%d %H:%M:%S', time.localtime(time.time())))"
   ]
  },
  {
   "cell_type": "code",
   "execution_count": null,
   "metadata": {},
   "outputs": [],
   "source": [
    "# checkpoint = MyModelCheckpoint(model, model_path, init_loss = 5)\n",
    "earlystop  = EarlyStopping(monitor = 'val_loss', min_delta = 0, patience = 5, verbose = 1, mode = 'auto')\n",
    "model.load_weights(os.path.join(model_path, 'model_v1.h5'))"
   ]
  },
  {
   "cell_type": "code",
   "execution_count": null,
   "metadata": {
    "scrolled": true
   },
   "outputs": [
    {
     "name": "stdout",
     "output_type": "stream",
     "text": [
      "Epoch 1/100\n",
      "1145/1296 [=========================>....] - ETA: 9:03 - loss: 91.1186 - _all_accuracy: 0.8284"
     ]
    }
   ],
   "source": [
    "train_ratio = 0.1\n",
    "steps_train_part = int(steps_train * train_ratio)\n",
    "\n",
    "valid_ratio = 0.3\n",
    "steps_valid_part = int(steps_valid * valid_ratio)\n",
    "\n",
    "multi_model = multi_gpu_model(model, gpus = gpus)\n",
    "multi_model.compile(optimizer = Adam(lr = 1e-4), \n",
    "                    loss      = myloss(),\n",
    "                    metrics   = [all_accuracy()])\n",
    "\n",
    "multi_model.fit_generator(train_generator,\n",
    "                          steps_per_epoch  = steps_train_part,\n",
    "                          epochs           = 100,\n",
    "                          validation_data  = valid_generator,\n",
    "                          validation_steps = steps_valid_part,\n",
    "                          max_queue_size   = 64,\n",
    "                          workers          = 16,\n",
    "                          callbacks        = [checkpoint, earlystop])\n",
    "print(time.strftime('%Y.%m.%d %H:%M:%S', time.localtime(time.time())))"
   ]
  },
  {
   "cell_type": "code",
   "execution_count": null,
   "metadata": {},
   "outputs": [],
   "source": [
    "# checkpoint = MyModelCheckpoint(model, model_path, init_loss = 5)\n",
    "earlystop  = EarlyStopping(monitor = 'val_loss', min_delta = 0, patience = 5, verbose = 1, mode = 'auto')\n",
    "model.load_weights(os.path.join(model_path, 'model_v1.h5'))"
   ]
  },
  {
   "cell_type": "code",
   "execution_count": null,
   "metadata": {},
   "outputs": [],
   "source": [
    "train_ratio = 0.1\n",
    "steps_train_part = int(steps_train * train_ratio)\n",
    "\n",
    "valid_ratio = 0.3\n",
    "steps_valid_part = int(steps_valid * valid_ratio)\n",
    "\n",
    "multi_model = multi_gpu_model(model, gpus = gpus)\n",
    "multi_model.compile(optimizer = Adam(lr = 1e-5), \n",
    "                    loss      = myloss(),\n",
    "                    metrics   = [all_accuracy()])\n",
    "\n",
    "multi_model.fit_generator(train_generator,\n",
    "                          steps_per_epoch  = steps_train_part,\n",
    "                          epochs           = 100,\n",
    "                          validation_data  = valid_generator,\n",
    "                          validation_steps = steps_valid_part,\n",
    "                          max_queue_size   = 64,\n",
    "                          workers          = 16,\n",
    "                          callbacks        = [checkpoint, earlystop])\n",
    "print(time.strftime('%Y.%m.%d %H:%M:%S', time.localtime(time.time())))"
   ]
  },
  {
   "cell_type": "code",
   "execution_count": 13,
   "metadata": {},
   "outputs": [
    {
     "name": "stdout",
     "output_type": "stream",
     "text": [
      "Epoch 1/100\n",
      "1817/1817 [==============================] - 1557s 857ms/step - loss: 18.7668 - _mean_accuracy: 0.3256 - val_loss: 69.7996 - val__mean_accuracy: 0.3225\n",
      "Epoch 2/100\n",
      "1817/1817 [==============================] - 1444s 795ms/step - loss: 18.2703 - _mean_accuracy: 0.3280 - val_loss: 68.9059 - val__mean_accuracy: 0.3234\n",
      "Epoch 3/100\n",
      "1817/1817 [==============================] - 1442s 794ms/step - loss: 18.3016 - _mean_accuracy: 0.3264 - val_loss: 70.6375 - val__mean_accuracy: 0.3229\n",
      "Epoch 4/100\n",
      "1817/1817 [==============================] - 1332s 733ms/step - loss: 17.7787 - _mean_accuracy: 0.3288 - val_loss: 70.6296 - val__mean_accuracy: 0.3262\n",
      "Epoch 5/100\n",
      "1817/1817 [==============================] - 1330s 732ms/step - loss: 17.7563 - _mean_accuracy: 0.3284 - val_loss: 68.5455 - val__mean_accuracy: 0.3236\n",
      "Epoch 6/100\n",
      "1817/1817 [==============================] - 1371s 754ms/step - loss: 17.7649 - _mean_accuracy: 0.3300 - val_loss: 69.7098 - val__mean_accuracy: 0.3220\n",
      "Epoch 7/100\n",
      "1817/1817 [==============================] - 1374s 756ms/step - loss: 17.5393 - _mean_accuracy: 0.3299 - val_loss: 69.8650 - val__mean_accuracy: 0.3211\n",
      "Epoch 8/100\n",
      "1817/1817 [==============================] - 1388s 764ms/step - loss: 17.3338 - _mean_accuracy: 0.3320 - val_loss: 69.8865 - val__mean_accuracy: 0.3246\n",
      "Epoch 00008: early stopping\n"
     ]
    },
    {
     "data": {
      "text/plain": [
       "<keras.callbacks.History at 0x7ff5800d7080>"
      ]
     },
     "execution_count": 13,
     "metadata": {},
     "output_type": "execute_result"
    }
   ],
   "source": [
    "multi_model.compile(optimizer=Adam(lr=1e-5), \n",
    "              loss=myloss(),\n",
    "              metrics=[all_accuracy()])\n",
    "\n",
    "multi_model.fit_generator(train_generator, steps_per_epoch=steps_train, epochs=100,\n",
    "                   validation_data=valid_generator, validation_steps=steps_valid, \n",
    "                          max_queue_size=32, workers=4,\n",
    "                 callbacks=[checkpoint, \n",
    "                EarlyStopping(monitor='val_loss', min_delta=0, patience=3, verbose=1, mode='auto')])"
   ]
  },
  {
   "cell_type": "code",
   "execution_count": null,
   "metadata": {},
   "outputs": [],
   "source": []
  },
  {
   "cell_type": "code",
   "execution_count": null,
   "metadata": {},
   "outputs": [],
   "source": []
  }
 ],
 "metadata": {
  "anaconda-cloud": {},
  "kernelspec": {
   "display_name": "Python 3",
   "language": "python",
   "name": "python3"
  },
  "language_info": {
   "codemirror_mode": {
    "name": "ipython",
    "version": 3
   },
   "file_extension": ".py",
   "mimetype": "text/x-python",
   "name": "python",
   "nbconvert_exporter": "python",
   "pygments_lexer": "ipython3",
   "version": "3.6.5"
  }
 },
 "nbformat": 4,
 "nbformat_minor": 2
}
