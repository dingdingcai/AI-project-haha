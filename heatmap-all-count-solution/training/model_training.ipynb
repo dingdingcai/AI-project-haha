{
 "cells": [
  {
   "cell_type": "code",
   "execution_count": null,
   "metadata": {
    "collapsed": true
   },
   "outputs": [],
   "source": [
    "import numpy as np\n",
    "import os\n",
    "import sys\n",
    "sys.path.append('../')\n",
    "import tensorflow as tf\n",
    "from dataload.data_generator_model_count import MyImageDataGenerator\n",
    "from model.model_count import model_v12 as my_model \n",
    "# from model.loss import quantile_error1 as my_loss\n",
    "from keras.applications.xception import preprocess_input\n",
    "from keras.callbacks import Callback, EarlyStopping\n",
    "from model.DepthwiseConv2D import DepthwiseConv2D\n",
    "from model.switchnorm import SwitchNormalization\n",
    "from keras.utils import multi_gpu_model\n",
    "from keras.optimizers import *\n",
    "from keras.models import load_model\n",
    "from model.metric import count_accuracy\n",
    "from keras import backend as K\n",
    "K.set_image_dim_ordering('tf')\n",
    "gpus = 4\n",
    "os.environ[\"CUDA_VISIBLE_DEVICES\"]=\"0,1\""
   ]
  },
  {
   "cell_type": "code",
   "execution_count": null,
   "metadata": {
    "collapsed": true
   },
   "outputs": [],
   "source": [
    "data_dir = '/home/ubuntu/WorkSpace/tk/map_count/data_split/m3plan7_link'\n",
    "image_size=(480, 640)  #疑问\n",
    "modelname = 'train_model_v12_m3plan7_20190109'\n",
    "savemodel_path = \"../../savemodel/0109_model_v12_m3plan7/\"+modelname\n",
    "train_batch_size = 64\n",
    "valid_batch_size = 64"
   ]
  },
  {
   "cell_type": "code",
   "execution_count": null,
   "metadata": {
    "collapsed": true
   },
   "outputs": [],
   "source": [
    "train_gen = MyImageDataGenerator(\n",
    "    preprocessing_function=preprocess_input,\n",
    "    width_shift_range=0.05,\n",
    "    height_shift_range=0.05,\n",
    "    rotation_range=6,\n",
    "    shear_range=5,\n",
    "    channel_shift_range=15,\n",
    "    zoom_range=(.9, 1.1),\n",
    "    horizontal_flip=True,\n",
    ")\n",
    "\n",
    "gen = MyImageDataGenerator(preprocessing_function=preprocess_input)\n",
    "\n",
    "train_generator = train_gen.myflow_from_directory(os.path.join(data_dir, 'train'),  image_size,\n",
    "                                                shuffle=True, batch_size=train_batch_size)\n",
    "\n",
    "valid_generator = gen.myflow_from_directory(os.path.join(data_dir, 'valid'),  image_size,\n",
    "                                          shuffle=False, batch_size=valid_batch_size)\n",
    "train_samples_epoch = train_generator.data_num\n",
    "print(\"samples_train_epoch = {}\".format(train_samples_epoch))\n",
    "\n",
    "steps_train = len(train_generator)\n",
    "print(\"steps_train = {}\".format(steps_train))\n",
    "\n",
    "valid_samples_epoch = valid_generator.data_num\n",
    "print(\"samples_valid_epoch = {}\".format(valid_samples_epoch))\n",
    "\n",
    "steps_valid = len(valid_generator)\n",
    "print(\"steps_valid = {}\".format(steps_valid))\n",
    "\n"
   ]
  },
  {
   "cell_type": "code",
   "execution_count": null,
   "metadata": {
    "collapsed": true
   },
   "outputs": [],
   "source": [
    "from keras.callbacks import Callback, EarlyStopping\n",
    "from model.loss import *\n",
    "class MyModelCheckpoint(Callback):\n",
    "\n",
    "    def __init__(self, model, path, init_loss=None):\n",
    "        self.mymodel = model\n",
    "        self.path = path\n",
    "        if init_loss == None:\n",
    "            self.best_loss = np.inf\n",
    "        else:\n",
    "            self.best_loss = init_loss\n",
    "\n",
    "    def on_epoch_end(self, epoch, logs=None):\n",
    "        loss = logs['loss']\n",
    "        val_acc = logs['val__count_accuracy']\n",
    "        if loss < self.best_loss or val_acc>0.97 :\n",
    "            print(\"\\nValidation loss decreased from {0:.5f} to {1:.5f}, saving model\".format(self.best_loss, loss))\n",
    "            savedmodel_name = '{}_{:.4f}_{:.4f}.h5'.format(self.path, loss, val_acc)\n",
    "            self.mymodel.save(savedmodel_name, overwrite=True)\n",
    "            self.best_loss = loss"
   ]
  },
  {
   "cell_type": "code",
   "execution_count": null,
   "metadata": {
    "collapsed": true
   },
   "outputs": [],
   "source": [
    "\n",
    "model = my_model(image_size)\n",
    "multi_model = multi_gpu_model(model, gpus=gpus)"
   ]
  },
  {
   "cell_type": "code",
   "execution_count": null,
   "metadata": {
    "collapsed": true
   },
   "outputs": [],
   "source": [
    "checkpoint = MyModelCheckpoint(model, savemodel_path)\n",
    "multi_model.compile(optimizer=Adam(lr=1e-3), \n",
    "              loss='logcosh',\n",
    "              metrics=[count_accuracy()])\n",
    "multi_model.fit_generator(train_generator, steps_per_epoch=steps_train, epochs=100,\n",
    "                   validation_data=valid_generator, validation_steps=steps_valid, \n",
    "                          max_queue_size=48, workers=12,\n",
    "                 callbacks=[checkpoint, \n",
    "                EarlyStopping(monitor='val_loss', min_delta=0, patience=8, verbose=1, mode='auto')])"
   ]
  },
  {
   "cell_type": "code",
   "execution_count": null,
   "metadata": {
    "collapsed": true
   },
   "outputs": [],
   "source": [
    "multi_model.compile(optimizer=Adam(lr=1e-4), \n",
    "              loss='logcosh',\n",
    "              metrics=[count_accuracy()])\n",
    "\n",
    "multi_model.fit_generator(train_generator, steps_per_epoch=steps_train, epochs=100,\n",
    "                   validation_data=valid_generator, validation_steps=steps_valid, \n",
    "                          max_queue_size=48, workers=12,\n",
    "                 callbacks=[checkpoint, \n",
    "                EarlyStopping(monitor='val_loss', min_delta=0, patience=6, verbose=1, mode='auto')])"
   ]
  },
  {
   "cell_type": "code",
   "execution_count": null,
   "metadata": {
    "collapsed": true
   },
   "outputs": [],
   "source": [
    "multi_model.compile(optimizer=Adam(lr=1e-5), \n",
    "              loss='logcosh',\n",
    "              metrics=[count_accuracy()])\n",
    "\n",
    "multi_model.fit_generator(train_generator, steps_per_epoch=steps_train, epochs=100,\n",
    "                   validation_data=valid_generator, validation_steps=steps_valid, \n",
    "                          max_queue_size=48, workers=12,\n",
    "                 callbacks=[checkpoint, \n",
    "                EarlyStopping(monitor='val_loss', min_delta=0, patience=3, verbose=1, mode='auto')])"
   ]
  }
 ],
 "metadata": {
  "kernelspec": {
   "display_name": "Python [conda root]",
   "language": "python",
   "name": "conda-root-py"
  },
  "language_info": {
   "codemirror_mode": {
    "name": "ipython",
    "version": 3
   },
   "file_extension": ".py",
   "mimetype": "text/x-python",
   "name": "python",
   "nbconvert_exporter": "python",
   "pygments_lexer": "ipython3",
   "version": "3.5.3"
  }
 },
 "nbformat": 4,
 "nbformat_minor": 2
}
